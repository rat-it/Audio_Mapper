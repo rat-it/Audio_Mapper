{
 "cells": [
  {
   "cell_type": "code",
   "execution_count": 98,
   "metadata": {},
   "outputs": [],
   "source": [
    "import os\n",
    "import speech_recognition as sr\n",
    "import wave\n",
    "import contextlib\n",
    "from pydub import AudioSegment\n",
    "import speech_recognition as sr\n",
    "from moviepy.video.io.VideoFileClip import VideoFileClip"
   ]
  },
  {
   "cell_type": "code",
   "execution_count": 99,
   "metadata": {},
   "outputs": [
    {
     "name": "stdout",
     "output_type": "stream",
     "text": [
      "Enter video file name : tareekh\n"
     ]
    }
   ],
   "source": [
    "file = input(\"Enter video file name : \")"
   ]
  },
  {
   "cell_type": "code",
   "execution_count": 100,
   "metadata": {},
   "outputs": [
    {
     "data": {
      "text/plain": [
       "0"
      ]
     },
     "execution_count": 100,
     "metadata": {},
     "output_type": "execute_result"
    }
   ],
   "source": [
    "path = 'C:/Users/Dell/DLA/SpeechConversion/Final/'\n",
    "input_file = os.path.join(path, file+'.mp4')\n",
    "output_file = os.path.join(path, file+'.wav')\n",
    "\n",
    "command2wav = \"ffmpeg -i \"+input_file+\" \"+output_file\n",
    "os.system(command2wav)"
   ]
  },
  {
   "cell_type": "code",
   "execution_count": 109,
   "metadata": {},
   "outputs": [
    {
     "name": "stdout",
     "output_type": "stream",
     "text": [
      "Start...\n",
      "Recognizing...\n",
      "\n",
      "Audio: \n",
      "tarikh per tarikh tarikh pe tarikh tarikh per tarikh\n"
     ]
    },
    {
     "data": {
      "text/plain": [
       "'tarikh per tarikh tarikh pe tarikh tarikh per tarikh'"
      ]
     },
     "execution_count": 109,
     "metadata": {},
     "output_type": "execute_result"
    }
   ],
   "source": [
    "e = sr.Recognizer()\n",
    "with sr.Microphone() as source:\n",
    "    e.adjust_for_ambient_noise(source)\n",
    "    print(\"Start...\")\n",
    "    audio=e.record(source, duration = 5)\n",
    "    print(\"Recognizing...\")\n",
    "    try:\n",
    "        print(\"\\nAudio: \\n\" +e.recognize_google(audio))\n",
    "    except Exception as e:\n",
    "        print(e)\n",
    "            \n",
    "input_text = e.recognize_google(audio)\n",
    "input_text"
   ]
  },
  {
   "cell_type": "code",
   "execution_count": 102,
   "metadata": {},
   "outputs": [
    {
     "name": "stdout",
     "output_type": "stream",
     "text": [
      "202.36190476190475\n"
     ]
    }
   ],
   "source": [
    "with contextlib.closing(wave.open(output_file,'r')) as f:\n",
    "    frames = f.getnframes()\n",
    "    rate = f.getframerate()\n",
    "    duration = frames / float(rate)\n",
    "    print(duration)"
   ]
  },
  {
   "cell_type": "code",
   "execution_count": 107,
   "metadata": {},
   "outputs": [],
   "source": [
    "files_path = os.path.join(path, 'audio_parts/')\n",
    "total_parts = (int)(duration / 5) + 1\n",
    "startSec = 2\n",
    "endSec = 2\n",
    "\n",
    "song = AudioSegment.from_wav(output_file)\n",
    "\n",
    "for i in range(1,total_parts+1):\n",
    "    if(i<total_parts):\n",
    "        startSec = endSec\n",
    "        endSec = endSec + 5\n",
    "    else :\n",
    "        startSec = endSec\n",
    "        endSec = (int)(duration)\n",
    "    startTime = startSec*1000\n",
    "    endTime = endSec*1000\n",
    "    extract = song[startTime:endTime]\n",
    "    extract.export(files_path+'part_'+(str) (i)+'.wav', format=\"wav\")"
   ]
  },
  {
   "cell_type": "code",
   "execution_count": 111,
   "metadata": {},
   "outputs": [
    {
     "name": "stdout",
     "output_type": "stream",
     "text": [
      "tarikh per tarikh tarikh pe tarikh tarikh per tarikh\n",
      "Entered Dialogue Matched!\n"
     ]
    },
    {
     "name": "stderr",
     "output_type": "stream",
     "text": [
      "                                                              \r"
     ]
    },
    {
     "name": "stdout",
     "output_type": "stream",
     "text": [
      "Moviepy - Building video C:/Users/Dell/DLA/SpeechConversion/Final/tareekh_output.mp4.\n"
     ]
    },
    {
     "name": "stderr",
     "output_type": "stream",
     "text": [
      "                                                              \r"
     ]
    },
    {
     "name": "stdout",
     "output_type": "stream",
     "text": [
      "MoviePy - Writing audio in tareekh_outputTEMP_MPY_wvf_snd.mp4\n"
     ]
    },
    {
     "name": "stderr",
     "output_type": "stream",
     "text": [
      "t:   2%|▏         | 3/125 [1:16:12<00:42,  2.86it/s, now=None]\n",
      "chunk:   0%|          | 0/111 [00:00<?, ?it/s, now=None]\n",
      "chunk:   2%|▏         | 2/111 [00:00<00:40,  2.71it/s, now=None]\n",
      "chunk:  27%|██▋       | 30/111 [00:00<00:20,  3.86it/s, now=None]\n",
      "chunk:  68%|██████▊   | 75/111 [00:00<00:06,  5.49it/s, now=None]\n",
      "                                                                 \r"
     ]
    },
    {
     "name": "stdout",
     "output_type": "stream",
     "text": [
      "MoviePy - Done.\n"
     ]
    },
    {
     "name": "stderr",
     "output_type": "stream",
     "text": [
      "                                                              \r"
     ]
    },
    {
     "name": "stdout",
     "output_type": "stream",
     "text": [
      "Moviepy - Writing video C:/Users/Dell/DLA/SpeechConversion/Final/tareekh_output.mp4\n",
      "\n"
     ]
    },
    {
     "name": "stderr",
     "output_type": "stream",
     "text": [
      "t:   2%|▏         | 3/125 [1:16:13<00:42,  2.86it/s, now=None]\n",
      "t:   0%|          | 0/125 [00:00<?, ?it/s, now=None]\n",
      "t:   2%|▏         | 2/125 [00:01<01:02,  1.96it/s, now=None]\n",
      "t:   6%|▌         | 7/125 [00:01<00:42,  2.76it/s, now=None]\n",
      "t:  12%|█▏        | 15/125 [00:01<00:28,  3.88it/s, now=None]\n",
      "t:  17%|█▋        | 21/125 [00:01<00:19,  5.38it/s, now=None]\n",
      "t:  22%|██▏       | 27/125 [00:01<00:13,  7.39it/s, now=None]\n",
      "t:  26%|██▋       | 33/125 [00:01<00:09,  9.96it/s, now=None]\n",
      "t:  30%|███       | 38/125 [00:01<00:06, 12.95it/s, now=None]\n",
      "t:  36%|███▌      | 45/125 [00:01<00:04, 16.94it/s, now=None]\n",
      "t:  41%|████      | 51/125 [00:01<00:03, 21.50it/s, now=None]\n",
      "t:  46%|████▌     | 57/125 [00:02<00:03, 19.62it/s, now=None]\n",
      "t:  50%|████▉     | 62/125 [00:02<00:02, 21.20it/s, now=None]\n",
      "t:  53%|█████▎    | 66/125 [00:02<00:02, 23.58it/s, now=None]\n",
      "t:  56%|█████▌    | 70/125 [00:02<00:02, 19.90it/s, now=None]\n",
      "t:  58%|█████▊    | 73/125 [00:02<00:02, 20.13it/s, now=None]\n",
      "t:  61%|██████    | 76/125 [00:03<00:02, 19.61it/s, now=None]\n",
      "t:  63%|██████▎   | 79/125 [00:03<00:02, 20.94it/s, now=None]\n",
      "t:  66%|██████▌   | 82/125 [00:03<00:01, 21.56it/s, now=None]\n",
      "t:  68%|██████▊   | 85/125 [00:03<00:02, 16.76it/s, now=None]\n",
      "t:  70%|███████   | 88/125 [00:03<00:02, 15.59it/s, now=None]\n",
      "t:  73%|███████▎  | 91/125 [00:04<00:02, 16.21it/s, now=None]\n",
      "t:  76%|███████▌  | 95/125 [00:04<00:01, 19.16it/s, now=None]\n",
      "t:  78%|███████▊  | 98/125 [00:04<00:01, 17.57it/s, now=None]\n",
      "t:  81%|████████  | 101/125 [00:04<00:01, 18.79it/s, now=None]\n",
      "t:  83%|████████▎ | 104/125 [00:04<00:01, 20.47it/s, now=None]\n",
      "t:  86%|████████▌ | 107/125 [00:04<00:00, 20.58it/s, now=None]\n",
      "t:  88%|████████▊ | 110/125 [00:04<00:00, 21.01it/s, now=None]\n",
      "t:  90%|█████████ | 113/125 [00:05<00:00, 18.61it/s, now=None]\n",
      "t:  94%|█████████▍| 118/125 [00:05<00:00, 22.05it/s, now=None]\n",
      "t:  97%|█████████▋| 121/125 [00:05<00:00, 19.85it/s, now=None]\n",
      "                                                              \r"
     ]
    },
    {
     "name": "stdout",
     "output_type": "stream",
     "text": [
      "Moviepy - Done !\n"
     ]
    },
    {
     "name": "stderr",
     "output_type": "stream",
     "text": [
      "                                                              \r"
     ]
    },
    {
     "name": "stdout",
     "output_type": "stream",
     "text": [
      "Moviepy - video ready C:/Users/Dell/DLA/SpeechConversion/Final/tareekh_output.mp4\n"
     ]
    },
    {
     "name": "stderr",
     "output_type": "stream",
     "text": [
      "t:   2%|▏         | 3/125 [1:16:21<00:42,  2.86it/s, now=None]"
     ]
    }
   ],
   "source": [
    "startSec = 2\n",
    "endSec = 2\n",
    "M=0\n",
    "text = ''\n",
    "\n",
    "for i in range(1,total_parts+1):\n",
    "    if(i<total_parts):\n",
    "        startSec = endSec\n",
    "        endSec = endSec + 5\n",
    "    else :\n",
    "        startSec = endSec\n",
    "        endSec = (int)(duration)\n",
    "    sound = files_path+'part_'+(str) (i)+'.wav'\n",
    "    r = sr.Recognizer()\n",
    "    with sr.AudioFile(sound) as source:\n",
    "        r.adjust_for_ambient_noise(source)\n",
    "        audio=r.listen(source)\n",
    "        try:\n",
    "            text = r.recognize_google(audio)\n",
    "        except Exception as e:\n",
    "            print(e)\n",
    "    if(text.lower() == input_text.lower()):\n",
    "        M=1\n",
    "        print(text)\n",
    "        break\n",
    "        \n",
    "        \n",
    "if(M==1):     \n",
    "    print(\"Entered Dialogue Matched!\")\n",
    "    startTime = startSec*1000\n",
    "    endTime = endSec*1000\n",
    "    extract = song[startTime:endTime]\n",
    "    extract.export(path+file+'_output.wav', format=\"wav\")\n",
    "    SM = (int) (startSec / 60)\n",
    "    SS = startSec - SM*60\n",
    "    EM = (int) (endSec / 60)\n",
    "    ES = endSec - EM*60\n",
    "    t1 = (str)(SM)+':'+(str)(SS)\n",
    "    t2 = (str)(EM)+':'+(str)(ES)\n",
    "    output_file = os.path.join(path, file+'_output.mp4')\n",
    "    with VideoFileClip(input_file) as video:\n",
    "        new = video.subclip(t1, t2)\n",
    "        new.write_videofile(output_file, audio_codec='aac')\n",
    "else :\n",
    "    print(\"Entered Dialogue Not Found!\")"
   ]
  }
 ],
 "metadata": {
  "kernelspec": {
   "display_name": "Python 3",
   "language": "python",
   "name": "python3"
  },
  "language_info": {
   "codemirror_mode": {
    "name": "ipython",
    "version": 3
   },
   "file_extension": ".py",
   "mimetype": "text/x-python",
   "name": "python",
   "nbconvert_exporter": "python",
   "pygments_lexer": "ipython3",
   "version": "3.7.4"
  }
 },
 "nbformat": 4,
 "nbformat_minor": 2
}
