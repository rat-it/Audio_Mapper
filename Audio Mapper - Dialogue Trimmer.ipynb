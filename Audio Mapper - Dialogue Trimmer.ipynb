{
 "cells": [
  {
   "cell_type": "code",
   "execution_count": 28,
   "metadata": {},
   "outputs": [],
   "source": [
    "import os\n",
    "import speech_recognition as sr\n",
    "import wave\n",
    "import contextlib\n",
    "from pydub import AudioSegment\n",
    "import speech_recognition as sr\n",
    "from moviepy.video.io.VideoFileClip import VideoFileClip"
   ]
  },
  {
   "cell_type": "code",
   "execution_count": 29,
   "metadata": {},
   "outputs": [
    {
     "name": "stdout",
     "output_type": "stream",
     "text": [
      "Enter video file name : movie\n"
     ]
    }
   ],
   "source": [
    "file = input(\"Enter video file name : \")"
   ]
  },
  {
   "cell_type": "code",
   "execution_count": 30,
   "metadata": {},
   "outputs": [
    {
     "data": {
      "text/plain": [
       "1"
      ]
     },
     "execution_count": 30,
     "metadata": {},
     "output_type": "execute_result"
    }
   ],
   "source": [
    "path = 'C:/Users/Dell/DLA/SpeechConversion/Final/'\n",
    "input_file = os.path.join(path, file+'.mp4')\n",
    "output_file = os.path.join(path, file+'.wav')\n",
    "\n",
    "command2wav = \"ffmpeg -i \"+input_file+\" \"+output_file\n",
    "os.system(command2wav)"
   ]
  },
  {
   "cell_type": "code",
   "execution_count": 32,
   "metadata": {},
   "outputs": [
    {
     "name": "stdout",
     "output_type": "stream",
     "text": [
      "Start...\n",
      "Recognizing...\n",
      "\n",
      "Audio: \n",
      "don't angry me\n"
     ]
    },
    {
     "data": {
      "text/plain": [
       "\"don't angry me\""
      ]
     },
     "execution_count": 32,
     "metadata": {},
     "output_type": "execute_result"
    }
   ],
   "source": [
    "e = sr.Recognizer()\n",
    "with sr.Microphone() as source:\n",
    "    e.adjust_for_ambient_noise(source)\n",
    "    print(\"Start...\")\n",
    "    audio=e.record(source, duration = 5)\n",
    "    print(\"Recognizing...\")\n",
    "    try:\n",
    "        print(\"\\nAudio: \\n\" +e.recognize_google(audio))\n",
    "    except Exception as e:\n",
    "        print(e)\n",
    "            \n",
    "input_text = e.recognize_google(audio)\n",
    "input_text"
   ]
  },
  {
   "cell_type": "code",
   "execution_count": 33,
   "metadata": {},
   "outputs": [
    {
     "name": "stdout",
     "output_type": "stream",
     "text": [
      "124.18031746031745\n"
     ]
    }
   ],
   "source": [
    "with contextlib.closing(wave.open(output_file,'r')) as f:\n",
    "    frames = f.getnframes()\n",
    "    rate = f.getframerate()\n",
    "    duration = frames / float(rate)\n",
    "    print(duration)"
   ]
  },
  {
   "cell_type": "code",
   "execution_count": 34,
   "metadata": {},
   "outputs": [],
   "source": [
    "files_path = os.path.join(path, 'audio_parts/')\n",
    "total_parts = (int)(duration / 5) + 1\n",
    "startSec = 0\n",
    "endSec = 0\n",
    "\n",
    "song = AudioSegment.from_wav(output_file)\n",
    "\n",
    "for i in range(1,total_parts+1):\n",
    "    if(i<total_parts):\n",
    "        startSec = endSec\n",
    "        endSec = endSec + 5\n",
    "    else :\n",
    "        startSec = endSec\n",
    "        endSec = (int)(duration)\n",
    "    startTime = startSec*1000\n",
    "    endTime = endSec*1000\n",
    "    extract = song[startTime:endTime]\n",
    "    extract.export(files_path+'part_'+(str) (i)+'.wav', format=\"wav\")"
   ]
  },
  {
   "cell_type": "code",
   "execution_count": 38,
   "metadata": {},
   "outputs": [
    {
     "name": "stdout",
     "output_type": "stream",
     "text": [
      "\n",
      "\n",
      "\n",
      "\n",
      "\n",
      "\n",
      "\n",
      "Entered Dialogue Matched!\n",
      "Moviepy - Building video C:/Users/Dell/DLA/SpeechConversion/Final/movie_output.mp4.\n",
      "MoviePy - Writing audio in movie_outputTEMP_MPY_wvf_snd.mp4\n"
     ]
    },
    {
     "name": "stderr",
     "output_type": "stream",
     "text": [
      "                                                                  \r"
     ]
    },
    {
     "name": "stdout",
     "output_type": "stream",
     "text": [
      "MoviePy - Done.\n",
      "Moviepy - Writing video C:/Users/Dell/DLA/SpeechConversion/Final/movie_output.mp4\n",
      "\n"
     ]
    },
    {
     "name": "stderr",
     "output_type": "stream",
     "text": [
      "                                                              \r"
     ]
    },
    {
     "name": "stdout",
     "output_type": "stream",
     "text": [
      "Moviepy - Done !\n",
      "Moviepy - video ready C:/Users/Dell/DLA/SpeechConversion/Final/movie_output.mp4\n"
     ]
    }
   ],
   "source": [
    "startSec = 0\n",
    "endSec = 0\n",
    "M=0\n",
    "text = ''\n",
    "\n",
    "for i in range(1,total_parts+1):\n",
    "    if(i<total_parts):\n",
    "        startSec = endSec\n",
    "        endSec = endSec + 5\n",
    "    else :\n",
    "        startSec = endSec\n",
    "        endSec = (int)(duration)\n",
    "    sound = files_path+'part_'+(str) (i)+'.wav'\n",
    "    r = sr.Recognizer()\n",
    "    with sr.AudioFile(sound) as source:\n",
    "        r.adjust_for_ambient_noise(source)\n",
    "        audio=r.listen(source)\n",
    "        try:\n",
    "            text = r.recognize_google(audio)\n",
    "        except Exception as e:\n",
    "            print(e)\n",
    "    if(text.lower() == input_text.lower()):\n",
    "        M=1\n",
    "        break\n",
    "        \n",
    "        \n",
    "if(M==1):     \n",
    "    print(\"Entered Dialogue Matched!\")\n",
    "    startTime = startSec*1000\n",
    "    endTime = endSec*1000\n",
    "    extract = song[startTime:endTime]\n",
    "    extract.export(path+file+'_output.wav', format=\"wav\")\n",
    "    SM = (int) (startSec / 60)\n",
    "    SS = startSec - SM*60\n",
    "    EM = (int) (endSec / 60)\n",
    "    ES = endSec - EM*60\n",
    "    t1 = (str)(SM)+':'+(str)(SS)\n",
    "    t2 = (str)(EM)+':'+(str)(ES)\n",
    "    output_file = os.path.join(path, file+'_output.mp4')\n",
    "    with VideoFileClip(input_file) as video:\n",
    "        new = video.subclip(t1, t2)\n",
    "        new.write_videofile(output_file, audio_codec='aac')\n",
    "else :\n",
    "    print(\"Entered Dialogue Not Found!\")"
   ]
  }
 ],
 "metadata": {
  "kernelspec": {
   "display_name": "Python 3",
   "language": "python",
   "name": "python3"
  },
  "language_info": {
   "codemirror_mode": {
    "name": "ipython",
    "version": 3
   },
   "file_extension": ".py",
   "mimetype": "text/x-python",
   "name": "python",
   "nbconvert_exporter": "python",
   "pygments_lexer": "ipython3",
   "version": "3.7.4"
  }
 },
 "nbformat": 4,
 "nbformat_minor": 2
}
